{
 "cells": [
  {
   "cell_type": "markdown",
   "id": "36582198",
   "metadata": {},
   "source": [
    "# Regression Model: \n",
    "© The Sparks Foundation\n",
    "\n",
    "### Project Overview: Score Prediction\n",
    "\n",
    "The goal of this project is to predict student scores based on the number of hours they study. By analyzing the relationship between study hours and scores, we aim to develop a predictive model that can accurately estimate a student's performance.\n",
    "\n",
    "The dataset used for this analysis consists of information on students' study hours and corresponding scores. It includes variables such as the number of hours studied and the achieved score. Our objective is to explore the dataset, perform exploratory data analysis (EDA), and develop a predictive model.\n",
    "\n",
    "During the EDA phase, we will examine the distribution of study hours and scores, identify any outliers or missing values, and explore the correlation between these variables. We will visualize the data using various plots and charts to gain insights into the patterns and trends present.\n",
    "\n",
    "Next, we will preprocess the data by cleaning any inconsistencies or errors, handling missing values, and encoding categorical variables if necessary. Feature engineering techniques may be applied to create additional relevant features that can enhance the predictive power of the model.\n",
    "\n",
    "After data preprocessing, we will split the dataset into training and testing sets. The training set will be used to train different machine learning algorithms, including linear regression, decision trees, random forests, or support vector machines, among others. We will compare the performance of these models using appropriate evaluation metrics and select the best-performing one.\n",
    "\n",
    "Once the model is trained and evaluated, we will apply it to the testing set to assess its predictive accuracy. We will measure its performance using metrics such as mean absolute error (MAE), root mean squared error (RMSE), or R-squared value. This evaluation will help determine the model's ability to generalize to unseen data accurately.\n",
    "\n",
    "Finally, we will interpret the results, analyze the significance of study hours on scores, and provide recommendations or insights based on the model's findings. These insights may assist educators, policymakers, or students in understanding the importance of study hours and potentially optimizing their study habits for better academic outcomes.\n",
    "\n",
    "In summary, this project aims to develop a predictive model to estimate student scores based on the number of study hours. By leveraging EDA techniques and machine learning algorithms, we will uncover patterns and build a robust model that can provide valuable insights and predictions in the field of education."
   ]
  },
  {
   "cell_type": "markdown",
   "id": "ad90c2b2",
   "metadata": {},
   "source": [
    "## Importing of Libraries"
   ]
  },
  {
   "cell_type": "code",
   "execution_count": 1,
   "id": "ac9b9c1c",
   "metadata": {},
   "outputs": [],
   "source": [
    "# Importing all required libraries\n",
    "import pandas as pd\n",
    "import numpy as np  \n",
    "import matplotlib.pyplot as plt \n",
    "import seaborn as sns\n",
    "%matplotlib inline\n",
    "import dabl"
   ]
  },
  {
   "cell_type": "markdown",
   "id": "3aa8c227",
   "metadata": {},
   "source": [
    "## Loading of Dataset"
   ]
  },
  {
   "cell_type": "code",
   "execution_count": 2,
   "id": "a6a63e49",
   "metadata": {},
   "outputs": [
    {
     "data": {
      "text/html": [
       "<div>\n",
       "<style scoped>\n",
       "    .dataframe tbody tr th:only-of-type {\n",
       "        vertical-align: middle;\n",
       "    }\n",
       "\n",
       "    .dataframe tbody tr th {\n",
       "        vertical-align: top;\n",
       "    }\n",
       "\n",
       "    .dataframe thead th {\n",
       "        text-align: right;\n",
       "    }\n",
       "</style>\n",
       "<table border=\"1\" class=\"dataframe\">\n",
       "  <thead>\n",
       "    <tr style=\"text-align: right;\">\n",
       "      <th></th>\n",
       "      <th>Hours</th>\n",
       "      <th>Scores</th>\n",
       "    </tr>\n",
       "  </thead>\n",
       "  <tbody>\n",
       "    <tr>\n",
       "      <th>0</th>\n",
       "      <td>2.5</td>\n",
       "      <td>21</td>\n",
       "    </tr>\n",
       "    <tr>\n",
       "      <th>1</th>\n",
       "      <td>5.1</td>\n",
       "      <td>47</td>\n",
       "    </tr>\n",
       "    <tr>\n",
       "      <th>2</th>\n",
       "      <td>3.2</td>\n",
       "      <td>27</td>\n",
       "    </tr>\n",
       "    <tr>\n",
       "      <th>3</th>\n",
       "      <td>8.5</td>\n",
       "      <td>75</td>\n",
       "    </tr>\n",
       "    <tr>\n",
       "      <th>4</th>\n",
       "      <td>3.5</td>\n",
       "      <td>30</td>\n",
       "    </tr>\n",
       "  </tbody>\n",
       "</table>\n",
       "</div>"
      ],
      "text/plain": [
       "   Hours  Scores\n",
       "0    2.5      21\n",
       "1    5.1      47\n",
       "2    3.2      27\n",
       "3    8.5      75\n",
       "4    3.5      30"
      ]
     },
     "execution_count": 2,
     "metadata": {},
     "output_type": "execute_result"
    }
   ],
   "source": [
    "# Reading data \n",
    "url = \"http://bit.ly/w-data\"\n",
    "df = pd.read_csv(url)\n",
    "\n",
    "df.head()"
   ]
  },
  {
   "cell_type": "markdown",
   "id": "d9ea880d",
   "metadata": {},
   "source": [
    "## Exploratory Data Analysis"
   ]
  },
  {
   "cell_type": "code",
   "execution_count": 3,
   "id": "58175547",
   "metadata": {},
   "outputs": [
    {
     "name": "stdout",
     "output_type": "stream",
     "text": [
      "Target looks like regression\n"
     ]
    },
    {
     "data": {
      "text/plain": [
       "[<AxesSubplot:title={'center':'Target distribution'}, xlabel='Scores', ylabel='frequency'>,\n",
       " array([[<AxesSubplot:title={'center':'F=9.72E-01'}, xlabel='Hours', ylabel='Scores'>]],\n",
       "       dtype=object),\n",
       " None]"
      ]
     },
     "execution_count": 3,
     "metadata": {},
     "output_type": "execute_result"
    },
    {
     "data": {
      "image/png": "[encoded data removed]",
      "text/plain": [
       "<Figure size 640x480 with 1 Axes>"
      ]
     },
     "metadata": {},
     "output_type": "display_data"
    },
    {
     "data": {
      "image/png": "[encoded data removed]",
      "text/plain": [
       "<Figure size 400x300 with 1 Axes>"
      ]
     },
     "metadata": {},
     "output_type": "display_data"
    }
   ],
   "source": [
    "dabl.plot(df, target_col='Scores')"
   ]
  },
  {
   "cell_type": "code",
   "execution_count": 34,
   "id": "00028a32",
   "metadata": {},
   "outputs": [
    {
     "name": "stdout",
     "output_type": "stream",
     "text": [
      "<class 'pandas.core.frame.DataFrame'>\n",
      "RangeIndex: 25 entries, 0 to 24\n",
      "Data columns (total 2 columns):\n",
      " #   Column  Non-Null Count  Dtype  \n",
      "---  ------  --------------  -----  \n",
      " 0   Hours   25 non-null     float64\n",
      " 1   Scores  25 non-null     int64  \n",
      "dtypes: float64(1), int64(1)\n",
      "memory usage: 528.0 bytes\n"
     ]
    }
   ],
   "source": [
    "df.info()"
   ]
  },
  {
   "cell_type": "code",
   "execution_count": 5,
   "id": "7f89ff20",
   "metadata": {},
   "outputs": [
    {
     "data": {
      "text/html": [
       "<div>\n",
       "<style scoped>\n",
       "    .dataframe tbody tr th:only-of-type {\n",
       "        vertical-align: middle;\n",
       "    }\n",
       "\n",
       "    .dataframe tbody tr th {\n",
       "        vertical-align: top;\n",
       "    }\n",
       "\n",
       "    .dataframe thead th {\n",
       "        text-align: right;\n",
       "    }\n",
       "</style>\n",
       "<table border=\"1\" class=\"dataframe\">\n",
       "  <thead>\n",
       "    <tr style=\"text-align: right;\">\n",
       "      <th></th>\n",
       "      <th>Hours</th>\n",
       "      <th>Scores</th>\n",
       "    </tr>\n",
       "  </thead>\n",
       "  <tbody>\n",
       "    <tr>\n",
       "      <th>count</th>\n",
       "      <td>25.000000</td>\n",
       "      <td>25.000000</td>\n",
       "    </tr>\n",
       "    <tr>\n",
       "      <th>mean</th>\n",
       "      <td>5.012000</td>\n",
       "      <td>51.480000</td>\n",
       "    </tr>\n",
       "    <tr>\n",
       "      <th>std</th>\n",
       "      <td>2.525094</td>\n",
       "      <td>25.286887</td>\n",
       "    </tr>\n",
       "    <tr>\n",
       "      <th>min</th>\n",
       "      <td>1.100000</td>\n",
       "      <td>17.000000</td>\n",
       "    </tr>\n",
       "    <tr>\n",
       "      <th>25%</th>\n",
       "      <td>2.700000</td>\n",
       "      <td>30.000000</td>\n",
       "    </tr>\n",
       "    <tr>\n",
       "      <th>50%</th>\n",
       "      <td>4.800000</td>\n",
       "      <td>47.000000</td>\n",
       "    </tr>\n",
       "    <tr>\n",
       "      <th>75%</th>\n",
       "      <td>7.400000</td>\n",
       "      <td>75.000000</td>\n",
       "    </tr>\n",
       "    <tr>\n",
       "      <th>max</th>\n",
       "      <td>9.200000</td>\n",
       "      <td>95.000000</td>\n",
       "    </tr>\n",
       "  </tbody>\n",
       "</table>\n",
       "</div>"
      ],
      "text/plain": [
       "           Hours     Scores\n",
       "count  25.000000  25.000000\n",
       "mean    5.012000  51.480000\n",
       "std     2.525094  25.286887\n",
       "min     1.100000  17.000000\n",
       "25%     2.700000  30.000000\n",
       "50%     4.800000  47.000000\n",
       "75%     7.400000  75.000000\n",
       "max     9.200000  95.000000"
      ]
     },
     "execution_count": 5,
     "metadata": {},
     "output_type": "execute_result"
    }
   ],
   "source": [
    "df.describe()"
   ]
  },
  {
   "cell_type": "markdown",
   "id": "7c434e0f",
   "metadata": {},
   "source": [
    "Based on the provided dataset, which consists of 25 observations, we can extract some key statistics:\n",
    "\n",
    "1. Hours:\n",
    "\n",
    "- Count: There are 25 data points for the \"Hours\" variable, indicating that we have a complete dataset.\n",
    "- Mean: The average number of hours studied is approximately 5.012 hours per observation.\n",
    "- Standard Deviation: The standard deviation is 2.525094, representing the variability or dispersion of the \"Hours\" data points around the mean.\n",
    "- Minimum: The minimum value for the \"Hours\" variable is 1.1, indicating that there is at least one observation with the lowest number of hours studied.\n",
    "- - 25th Percentile: 25% of the data points have a value of 2.7 hours or less, indicating that a quarter of the observations studied for a relatively short period.\n",
    "- 50th Percentile (Median): The median value for the \"Hours\" variable is 4.8, implying that 50% of the data points have this value or lower.\n",
    "- 75th Percentile: 75% of the data points have a value of 7.4 hours or less, indicating that a significant portion of the - observations studied for 7.4 hours or fewer.\n",
    "- Maximum: The highest value for the \"Hours\" variable is 9.2, indicating that at least one observation studied for the longest period.\n",
    "\n",
    "2. Scores:\n",
    "\n",
    "- Count: There are 25 data points for the \"Scores\" variable, indicating that it aligns with the \"Hours\" variable in terms of completeness.\n",
    "- Mean: The average score achieved is approximately 51.48, indicating the mean performance across the observations.\n",
    "- Standard Deviation: The standard deviation for the \"Scores\" variable is 25.286887, representing the variability or dispersion of the scores around the mean.\n",
    "- Minimum: The lowest score achieved is 17, indicating that at least one observation had the poorest performance.\n",
    "- 25th Percentile: 25% of the data points achieved a score of 30 or lower, indicating that a quarter of the observations had relatively lower scores.\n",
    "- 50th Percentile (Median): The median score is 47, indicating that 50% of the data points have this value or lower.\n",
    "- 75th Percentile: 75% of the data points achieved a score of 75 or lower, indicating that a significant portion of the observations had scores of 75 or below.\n",
    "- Maximum: The highest score achieved is 95, indicating that at least one observation had the highest performance."
   ]
  },
  {
   "cell_type": "code",
   "execution_count": 6,
   "id": "bf51f9d2",
   "metadata": {},
   "outputs": [
    {
     "data": {
      "text/plain": [
       "Hours     0\n",
       "Scores    0\n",
       "dtype: int64"
      ]
     },
     "execution_count": 6,
     "metadata": {},
     "output_type": "execute_result"
    }
   ],
   "source": [
    "df.isna().sum()"
   ]
  },
  {
   "cell_type": "markdown",
   "id": "e9f3bd75",
   "metadata": {},
   "source": [
    "The is no null values across the dataset"
   ]
  },
  {
   "cell_type": "markdown",
   "id": "204be93f",
   "metadata": {},
   "source": [
    "### Features Creation"
   ]
  },
  {
   "cell_type": "code",
   "execution_count": 7,
   "id": "ca8d0afd",
   "metadata": {},
   "outputs": [],
   "source": [
    "X = df.Hours.values\n",
    "y = df.Scores.values\n",
    "X = X.reshape(-1,1)"
   ]
  },
  {
   "cell_type": "code",
   "execution_count": 8,
   "id": "660794fc",
   "metadata": {},
   "outputs": [
    {
     "data": {
      "text/plain": [
       "(25, 1)"
      ]
     },
     "metadata": {},
     "output_type": "display_data"
    },
    {
     "data": {
      "text/plain": [
       "(25,)"
      ]
     },
     "metadata": {},
     "output_type": "display_data"
    }
   ],
   "source": [
    "display(X.shape)\n",
    "display(y.shape)"
   ]
  },
  {
   "cell_type": "code",
   "execution_count": 20,
   "id": "94f1e046",
   "metadata": {},
   "outputs": [],
   "source": [
    "from sklearn.model_selection import train_test_split\n",
    "from sklearn.linear_model import LinearRegression\n",
    "from sklearn.metrics import mean_absolute_error as mae, mean_squared_error as mse, r2_score\n",
    "from sklearn.model_selection import cross_val_score, KFold"
   ]
  },
  {
   "cell_type": "code",
   "execution_count": 21,
   "id": "10183ddd",
   "metadata": {},
   "outputs": [],
   "source": [
    "X_train, X_test, y_train, y_test = train_test_split(X, y, test_size=0.20, random_state=42)"
   ]
  },
  {
   "cell_type": "code",
   "execution_count": 22,
   "id": "824f4d0c",
   "metadata": {},
   "outputs": [],
   "source": [
    "reg = LinearRegression()\n",
    "reg.fit(X_train,y_train)\n",
    "predicts = reg.predict(X_test)"
   ]
  },
  {
   "cell_type": "code",
   "execution_count": 23,
   "id": "906e2fd6",
   "metadata": {},
   "outputs": [
    {
     "data": {
      "text/plain": [
       "array([83.18814104, 27.03208774, 27.03208774, 69.63323162, 59.95115347])"
      ]
     },
     "execution_count": 23,
     "metadata": {},
     "output_type": "execute_result"
    }
   ],
   "source": [
    "predicts"
   ]
  },
  {
   "cell_type": "code",
   "execution_count": 24,
   "id": "b7aa0b56",
   "metadata": {},
   "outputs": [],
   "source": [
    "X_score = X.reshape(-1, 1)"
   ]
  },
  {
   "cell_type": "code",
   "execution_count": 25,
   "id": "625ef84a",
   "metadata": {},
   "outputs": [
    {
     "data": {
      "image/png": "[encoded data removed]",
      "text/plain": [
       "<Figure size 640x480 with 1 Axes>"
      ]
     },
     "metadata": {},
     "output_type": "display_data"
    }
   ],
   "source": [
    "plt.scatter(X, y, color='blue', label='Student performance per hours spent')\n",
    "\n",
    "# Predicted values using the fitted model\n",
    "y_pred = reg.predict(X)\n",
    "\n",
    "# Plotting the regression line\n",
    "plt.plot(X, y_pred, color='red', linewidth=2, label='Regression Line')\n",
    "\n",
    "# Set labels and title\n",
    "plt.xlabel('Hours')\n",
    "plt.ylabel('Score')\n",
    "plt.title('Regression Line')\n",
    "\n",
    "# Show legend\n",
    "plt.legend()\n",
    "\n",
    "# Show the plot\n",
    "plt.show()"
   ]
  },
  {
   "cell_type": "code",
   "execution_count": 26,
   "id": "8fe352b2",
   "metadata": {},
   "outputs": [
    {
     "data": {
      "text/html": [
       "<div>\n",
       "<style scoped>\n",
       "    .dataframe tbody tr th:only-of-type {\n",
       "        vertical-align: middle;\n",
       "    }\n",
       "\n",
       "    .dataframe tbody tr th {\n",
       "        vertical-align: top;\n",
       "    }\n",
       "\n",
       "    .dataframe thead th {\n",
       "        text-align: right;\n",
       "    }\n",
       "</style>\n",
       "<table border=\"1\" class=\"dataframe\">\n",
       "  <thead>\n",
       "    <tr style=\"text-align: right;\">\n",
       "      <th></th>\n",
       "      <th>Actual</th>\n",
       "      <th>Predicted</th>\n",
       "    </tr>\n",
       "  </thead>\n",
       "  <tbody>\n",
       "    <tr>\n",
       "      <th>0</th>\n",
       "      <td>81</td>\n",
       "      <td>83.188141</td>\n",
       "    </tr>\n",
       "    <tr>\n",
       "      <th>1</th>\n",
       "      <td>30</td>\n",
       "      <td>27.032088</td>\n",
       "    </tr>\n",
       "    <tr>\n",
       "      <th>2</th>\n",
       "      <td>21</td>\n",
       "      <td>27.032088</td>\n",
       "    </tr>\n",
       "    <tr>\n",
       "      <th>3</th>\n",
       "      <td>76</td>\n",
       "      <td>69.633232</td>\n",
       "    </tr>\n",
       "    <tr>\n",
       "      <th>4</th>\n",
       "      <td>62</td>\n",
       "      <td>59.951153</td>\n",
       "    </tr>\n",
       "  </tbody>\n",
       "</table>\n",
       "</div>"
      ],
      "text/plain": [
       "   Actual  Predicted\n",
       "0      81  83.188141\n",
       "1      30  27.032088\n",
       "2      21  27.032088\n",
       "3      76  69.633232\n",
       "4      62  59.951153"
      ]
     },
     "execution_count": 26,
     "metadata": {},
     "output_type": "execute_result"
    }
   ],
   "source": [
    "lin = pd.DataFrame({'Actual': y_test, 'Predicted': predicts})\n",
    "lin"
   ]
  },
  {
   "cell_type": "markdown",
   "id": "2269f95b",
   "metadata": {},
   "source": [
    "Based on this information, we can evaluate the performance of the model in predicting the scores.\n",
    "\n",
    "Observation 1 shows that the model predicted a score of 83.188141, which is slightly higher than the actual score of 81. This suggests that the model performed relatively well in this case, accurately predicting a score close to the actual value.\n",
    "\n",
    "Observation 2 indicates that the model predicted a score of 27.032088, whereas the actual score was 30. The model underestimated the score in this instance, indicating a slight discrepancy between the predicted and actual values.\n",
    "\n",
    "Observation 3 also reveals a similar pattern, with the model predicting a score of 27.032088, whereas the actual score was 21. Again, the model underestimated the score, resulting in a difference between the predicted and actual values.\n",
    "\n",
    "Observation 4 demonstrates that the model predicted a score of 69.633232, which is relatively close to the actual score of 76. The model's prediction in this case is reasonably accurate, although there is still a slight difference between the predicted and actual values.\n",
    "\n",
    "Observation 5 shows that the model predicted a score of 59.951153, while the actual score was 62. The model's prediction is quite close to the actual value, indicating a good level of accuracy.\n",
    "\n",
    "Overall, based on this limited sample, it appears that the model is relatively effective in predicting scores."
   ]
  },
  {
   "cell_type": "code",
   "execution_count": 27,
   "id": "d7bf0a47",
   "metadata": {},
   "outputs": [
    {
     "name": "stdout",
     "output_type": "stream",
     "text": [
      "Number of Hours = 9.25\n",
      "Predicted Score = 92.38611528261494\n"
     ]
    }
   ],
   "source": [
    "hours = np.array([[9.25]])\n",
    "predictions = reg.predict(hours)\n",
    "print(\"Number of Hours = {}\".format(hours[0][0]))\n",
    "print(\"Predicted Score = {}\".format(predictions[0]))\n"
   ]
  },
  {
   "cell_type": "markdown",
   "id": "f14e383e",
   "metadata": {},
   "source": [
    "The model predicted that a student who studied for 9.25 will have an approximate score of 92.4 "
   ]
  },
  {
   "cell_type": "markdown",
   "id": "82f4de20",
   "metadata": {},
   "source": [
    "## Model Performance"
   ]
  },
  {
   "cell_type": "markdown",
   "id": "1f1f2f61",
   "metadata": {},
   "source": [
    "### Cross Validation\n",
    "\n",
    "Cross-validation is a vital approach to evaluating a model. It maximizes the amount of data that is available to the model, as the model is not only trained but also tested on all of the available data."
   ]
  },
  {
   "cell_type": "code",
   "execution_count": 33,
   "id": "53341efc",
   "metadata": {},
   "outputs": [],
   "source": [
    "# Create a KFold object\n",
    "kfold = KFold(n_splits=6, shuffle=True, random_state=5)\n",
    "\n",
    "# Perform cross-validation\n",
    "cv_scores = cross_val_score(reg, X, y, cv=kfold)\n",
    "\n",
    "# Calculate and print average score and standard deviation\n",
    "avg_score = cv_scores.mean()\n",
    "std_dev = cv_scores.std()\n"
   ]
  },
  {
   "cell_type": "markdown",
   "id": "ef536781",
   "metadata": {},
   "source": [
    "Cross-Validation Scores: [0.90005467, 0.94662445, 0.7556832,  0.93657642, 0.95833353, 0.93102917]\n",
    "- Average Score: 0.9047169070303717\n",
    "- Standard Deviation: 0.06900619783075516\n",
    "- The model achieved an average score of 0.9047169070303717 with a standard deviation of 0.06900619783075516\n",
    "- This indicates that the model explains the variation in the target variable reasonably well."
   ]
  },
  {
   "cell_type": "markdown",
   "id": "09dd4de6",
   "metadata": {},
   "source": [
    "### RMSE. MSE, MAE and R2 Score"
   ]
  },
  {
   "cell_type": "code",
   "execution_count": 30,
   "id": "e01d6b40",
   "metadata": {},
   "outputs": [
    {
     "data": {
      "text/html": [
       "<div>\n",
       "<style scoped>\n",
       "    .dataframe tbody tr th:only-of-type {\n",
       "        vertical-align: middle;\n",
       "    }\n",
       "\n",
       "    .dataframe tbody tr th {\n",
       "        vertical-align: top;\n",
       "    }\n",
       "\n",
       "    .dataframe thead th {\n",
       "        text-align: right;\n",
       "    }\n",
       "</style>\n",
       "<table border=\"1\" class=\"dataframe\">\n",
       "  <thead>\n",
       "    <tr style=\"text-align: right;\">\n",
       "      <th></th>\n",
       "      <th>Evaluating the model</th>\n",
       "    </tr>\n",
       "  </thead>\n",
       "  <tbody>\n",
       "    <tr>\n",
       "      <th>Mean absolute error</th>\n",
       "      <td>3.920751</td>\n",
       "    </tr>\n",
       "    <tr>\n",
       "      <th>Mean squared error</th>\n",
       "      <td>18.943212</td>\n",
       "    </tr>\n",
       "    <tr>\n",
       "      <th>R squared</th>\n",
       "      <td>0.967806</td>\n",
       "    </tr>\n",
       "    <tr>\n",
       "      <th>Root mean squared error</th>\n",
       "      <td>4.352380</td>\n",
       "    </tr>\n",
       "  </tbody>\n",
       "</table>\n",
       "</div>"
      ],
      "text/plain": [
       "                         Evaluating the model\n",
       "Mean absolute error                  3.920751\n",
       "Mean squared error                  18.943212\n",
       "R squared                            0.967806\n",
       "Root mean squared error              4.352380"
      ]
     },
     "execution_count": 30,
     "metadata": {},
     "output_type": "execute_result"
    }
   ],
   "source": [
    "Model_Performance4= { \n",
    "    \n",
    "                      'Evaluating the model':\n",
    "                    \n",
    "                         {\"Root mean squared error\": (np.sqrt(mse(y_test,predicts))),\n",
    "                        \"Mean squared error\": (mse(y_test,predicts)),\n",
    "                        \"Mean absolute error\": (mae(y_test,predicts)),\n",
    "                        \"R squared\": (r2_score(y_test,predicts))}\n",
    "                        \n",
    "                    }\n",
    "\n",
    "# create dataframe from dictionary\n",
    "Model_Performance4 = pd.DataFrame(data=Model_Performance4)\n",
    "Model_Performance4"
   ]
  },
  {
   "cell_type": "markdown",
   "id": "d3b5f2a0",
   "metadata": {},
   "source": [
    "Based on the output, we can draw the following observations:\n",
    "\n",
    "- Mean Absolute Error (MAE): The MAE value is 3.920751. This metric represents the average absolute difference between the predicted values and the actual values. A lower MAE indicates better model performance in terms of accuracy and precision.\n",
    "\n",
    "- Mean Squared Error (MSE): The MSE value is 18.943212. This metric measures the average squared difference between the predicted values and the actual values. It gives more weight to larger errors compared to MAE. Similar to MAE, a lower MSE value indicates better model performance.\n",
    "\n",
    "- R-squared (R^2): The R-squared value is 0.967806. This metric provides an indication of how well the model fits the observed data. It represents the proportion of the variance in the dependent variable that is predictable from the independent variables. A higher R-squared value closer to 1 indicates that the model explains a large portion of the variance in the data, suggesting a good fit.\n",
    "\n",
    "- Root Mean Squared Error (RMSE): The RMSE value is 4.352380. This metric is the square root of the MSE and represents the standard deviation of the residuals. It provides a more interpretable measure of the average prediction error. A lower RMSE value indicates better model performance in terms of accuracy.\n",
    "\n",
    "Overall, the model performance appears to be quite promising. The low values for MAE, MSE, and RMSE indicate that the model's predictions are relatively close to the actual values. Additionally, the high R-squared value suggests that a significant portion of the variance in the dependent variable is captured by the model. However, it's important to compare these metrics with the context of the problem and other models to fully assess the performance."
   ]
  }
 ],
 "metadata": {
  "kernelspec": {
   "display_name": "Python 3 (ipykernel)",
   "language": "python",
   "name": "python3"
  },
  "language_info": {
   "codemirror_mode": {
    "name": "ipython",
    "version": 3
   },
   "file_extension": ".py",
   "mimetype": "text/x-python",
   "name": "python",
   "nbconvert_exporter": "python",
   "pygments_lexer": "ipython3",
   "version": "3.9.12"
  }
 },
 "nbformat": 4,
 "nbformat_minor": 5
}
